{
  "nbformat": 4,
  "nbformat_minor": 0,
  "metadata": {
    "colab": {
      "provenance": []
    },
    "kernelspec": {
      "name": "python3",
      "display_name": "Python 3"
    },
    "language_info": {
      "name": "python"
    },
    "accelerator": "GPU",
    "widgets": {
      "application/vnd.jupyter.widget-state+json": {
        "6a9bcc0beb3e4dabadcc9b6121251806": {
          "model_module": "@jupyter-widgets/controls",
          "model_name": "HBoxModel",
          "model_module_version": "1.5.0",
          "state": {
            "_dom_classes": [],
            "_model_module": "@jupyter-widgets/controls",
            "_model_module_version": "1.5.0",
            "_model_name": "HBoxModel",
            "_view_count": null,
            "_view_module": "@jupyter-widgets/controls",
            "_view_module_version": "1.5.0",
            "_view_name": "HBoxView",
            "box_style": "",
            "children": [
              "IPY_MODEL_53686900faeb4d5a894313ace5bef79a",
              "IPY_MODEL_fea8416391314826a03b1ea8099c5351",
              "IPY_MODEL_fc72e49284cc4c86a5ab855491bba3c6"
            ],
            "layout": "IPY_MODEL_877e462bfa0f46cf806693633c55e05e"
          }
        },
        "53686900faeb4d5a894313ace5bef79a": {
          "model_module": "@jupyter-widgets/controls",
          "model_name": "HTMLModel",
          "model_module_version": "1.5.0",
          "state": {
            "_dom_classes": [],
            "_model_module": "@jupyter-widgets/controls",
            "_model_module_version": "1.5.0",
            "_model_name": "HTMLModel",
            "_view_count": null,
            "_view_module": "@jupyter-widgets/controls",
            "_view_module_version": "1.5.0",
            "_view_name": "HTMLView",
            "description": "",
            "description_tooltip": null,
            "layout": "IPY_MODEL_7f1cf1fc41f5404887742a3c3b389c5e",
            "placeholder": "​",
            "style": "IPY_MODEL_24dcf1896ee4459eabc4a2ebc5bdc992",
            "value": ""
          }
        },
        "fea8416391314826a03b1ea8099c5351": {
          "model_module": "@jupyter-widgets/controls",
          "model_name": "FloatProgressModel",
          "model_module_version": "1.5.0",
          "state": {
            "_dom_classes": [],
            "_model_module": "@jupyter-widgets/controls",
            "_model_module_version": "1.5.0",
            "_model_name": "FloatProgressModel",
            "_view_count": null,
            "_view_module": "@jupyter-widgets/controls",
            "_view_module_version": "1.5.0",
            "_view_name": "ProgressView",
            "bar_style": "success",
            "description": "",
            "description_tooltip": null,
            "layout": "IPY_MODEL_61903a2629724acd97021ee554b10ac4",
            "max": 1,
            "min": 0,
            "orientation": "horizontal",
            "style": "IPY_MODEL_ade77225864043f29898c9d3438d1405",
            "value": 0
          }
        },
        "fc72e49284cc4c86a5ab855491bba3c6": {
          "model_module": "@jupyter-widgets/controls",
          "model_name": "HTMLModel",
          "model_module_version": "1.5.0",
          "state": {
            "_dom_classes": [],
            "_model_module": "@jupyter-widgets/controls",
            "_model_module_version": "1.5.0",
            "_model_name": "HTMLModel",
            "_view_count": null,
            "_view_module": "@jupyter-widgets/controls",
            "_view_module_version": "1.5.0",
            "_view_name": "HTMLView",
            "description": "",
            "description_tooltip": null,
            "layout": "IPY_MODEL_7057f1168e7b4e99935c41a012da01f0",
            "placeholder": "​",
            "style": "IPY_MODEL_83a3fd5ffd43425abae6086c77d4dd59",
            "value": " 0/0 [00:00&lt;?, ?it/s]"
          }
        },
        "877e462bfa0f46cf806693633c55e05e": {
          "model_module": "@jupyter-widgets/base",
          "model_name": "LayoutModel",
          "model_module_version": "1.2.0",
          "state": {
            "_model_module": "@jupyter-widgets/base",
            "_model_module_version": "1.2.0",
            "_model_name": "LayoutModel",
            "_view_count": null,
            "_view_module": "@jupyter-widgets/base",
            "_view_module_version": "1.2.0",
            "_view_name": "LayoutView",
            "align_content": null,
            "align_items": null,
            "align_self": null,
            "border": null,
            "bottom": null,
            "display": null,
            "flex": null,
            "flex_flow": null,
            "grid_area": null,
            "grid_auto_columns": null,
            "grid_auto_flow": null,
            "grid_auto_rows": null,
            "grid_column": null,
            "grid_gap": null,
            "grid_row": null,
            "grid_template_areas": null,
            "grid_template_columns": null,
            "grid_template_rows": null,
            "height": null,
            "justify_content": null,
            "justify_items": null,
            "left": null,
            "margin": null,
            "max_height": null,
            "max_width": null,
            "min_height": null,
            "min_width": null,
            "object_fit": null,
            "object_position": null,
            "order": null,
            "overflow": null,
            "overflow_x": null,
            "overflow_y": null,
            "padding": null,
            "right": null,
            "top": null,
            "visibility": null,
            "width": null
          }
        },
        "7f1cf1fc41f5404887742a3c3b389c5e": {
          "model_module": "@jupyter-widgets/base",
          "model_name": "LayoutModel",
          "model_module_version": "1.2.0",
          "state": {
            "_model_module": "@jupyter-widgets/base",
            "_model_module_version": "1.2.0",
            "_model_name": "LayoutModel",
            "_view_count": null,
            "_view_module": "@jupyter-widgets/base",
            "_view_module_version": "1.2.0",
            "_view_name": "LayoutView",
            "align_content": null,
            "align_items": null,
            "align_self": null,
            "border": null,
            "bottom": null,
            "display": null,
            "flex": null,
            "flex_flow": null,
            "grid_area": null,
            "grid_auto_columns": null,
            "grid_auto_flow": null,
            "grid_auto_rows": null,
            "grid_column": null,
            "grid_gap": null,
            "grid_row": null,
            "grid_template_areas": null,
            "grid_template_columns": null,
            "grid_template_rows": null,
            "height": null,
            "justify_content": null,
            "justify_items": null,
            "left": null,
            "margin": null,
            "max_height": null,
            "max_width": null,
            "min_height": null,
            "min_width": null,
            "object_fit": null,
            "object_position": null,
            "order": null,
            "overflow": null,
            "overflow_x": null,
            "overflow_y": null,
            "padding": null,
            "right": null,
            "top": null,
            "visibility": null,
            "width": null
          }
        },
        "24dcf1896ee4459eabc4a2ebc5bdc992": {
          "model_module": "@jupyter-widgets/controls",
          "model_name": "DescriptionStyleModel",
          "model_module_version": "1.5.0",
          "state": {
            "_model_module": "@jupyter-widgets/controls",
            "_model_module_version": "1.5.0",
            "_model_name": "DescriptionStyleModel",
            "_view_count": null,
            "_view_module": "@jupyter-widgets/base",
            "_view_module_version": "1.2.0",
            "_view_name": "StyleView",
            "description_width": ""
          }
        },
        "61903a2629724acd97021ee554b10ac4": {
          "model_module": "@jupyter-widgets/base",
          "model_name": "LayoutModel",
          "model_module_version": "1.2.0",
          "state": {
            "_model_module": "@jupyter-widgets/base",
            "_model_module_version": "1.2.0",
            "_model_name": "LayoutModel",
            "_view_count": null,
            "_view_module": "@jupyter-widgets/base",
            "_view_module_version": "1.2.0",
            "_view_name": "LayoutView",
            "align_content": null,
            "align_items": null,
            "align_self": null,
            "border": null,
            "bottom": null,
            "display": null,
            "flex": null,
            "flex_flow": null,
            "grid_area": null,
            "grid_auto_columns": null,
            "grid_auto_flow": null,
            "grid_auto_rows": null,
            "grid_column": null,
            "grid_gap": null,
            "grid_row": null,
            "grid_template_areas": null,
            "grid_template_columns": null,
            "grid_template_rows": null,
            "height": null,
            "justify_content": null,
            "justify_items": null,
            "left": null,
            "margin": null,
            "max_height": null,
            "max_width": null,
            "min_height": null,
            "min_width": null,
            "object_fit": null,
            "object_position": null,
            "order": null,
            "overflow": null,
            "overflow_x": null,
            "overflow_y": null,
            "padding": null,
            "right": null,
            "top": null,
            "visibility": null,
            "width": "20px"
          }
        },
        "ade77225864043f29898c9d3438d1405": {
          "model_module": "@jupyter-widgets/controls",
          "model_name": "ProgressStyleModel",
          "model_module_version": "1.5.0",
          "state": {
            "_model_module": "@jupyter-widgets/controls",
            "_model_module_version": "1.5.0",
            "_model_name": "ProgressStyleModel",
            "_view_count": null,
            "_view_module": "@jupyter-widgets/base",
            "_view_module_version": "1.2.0",
            "_view_name": "StyleView",
            "bar_color": null,
            "description_width": ""
          }
        },
        "7057f1168e7b4e99935c41a012da01f0": {
          "model_module": "@jupyter-widgets/base",
          "model_name": "LayoutModel",
          "model_module_version": "1.2.0",
          "state": {
            "_model_module": "@jupyter-widgets/base",
            "_model_module_version": "1.2.0",
            "_model_name": "LayoutModel",
            "_view_count": null,
            "_view_module": "@jupyter-widgets/base",
            "_view_module_version": "1.2.0",
            "_view_name": "LayoutView",
            "align_content": null,
            "align_items": null,
            "align_self": null,
            "border": null,
            "bottom": null,
            "display": null,
            "flex": null,
            "flex_flow": null,
            "grid_area": null,
            "grid_auto_columns": null,
            "grid_auto_flow": null,
            "grid_auto_rows": null,
            "grid_column": null,
            "grid_gap": null,
            "grid_row": null,
            "grid_template_areas": null,
            "grid_template_columns": null,
            "grid_template_rows": null,
            "height": null,
            "justify_content": null,
            "justify_items": null,
            "left": null,
            "margin": null,
            "max_height": null,
            "max_width": null,
            "min_height": null,
            "min_width": null,
            "object_fit": null,
            "object_position": null,
            "order": null,
            "overflow": null,
            "overflow_x": null,
            "overflow_y": null,
            "padding": null,
            "right": null,
            "top": null,
            "visibility": null,
            "width": null
          }
        },
        "83a3fd5ffd43425abae6086c77d4dd59": {
          "model_module": "@jupyter-widgets/controls",
          "model_name": "DescriptionStyleModel",
          "model_module_version": "1.5.0",
          "state": {
            "_model_module": "@jupyter-widgets/controls",
            "_model_module_version": "1.5.0",
            "_model_name": "DescriptionStyleModel",
            "_view_count": null,
            "_view_module": "@jupyter-widgets/base",
            "_view_module_version": "1.2.0",
            "_view_name": "StyleView",
            "description_width": ""
          }
        }
      }
    }
  },
  "cells": [
    {
      "cell_type": "code",
      "execution_count": 1,
      "metadata": {
        "id": "IN0uLIHVE65t",
        "colab": {
          "base_uri": "https://localhost:8080/"
        },
        "outputId": "9cbf3778-8cd0-4015-a5d2-b96508a1c7ed"
      },
      "outputs": [
        {
          "output_type": "stream",
          "name": "stdout",
          "text": [
            "\u001b[K     |████████████████████████████████| 153 kB 6.8 MB/s \n",
            "\u001b[K     |████████████████████████████████| 4.9 MB 55.0 MB/s \n",
            "\u001b[K     |████████████████████████████████| 981 kB 50.2 MB/s \n",
            "\u001b[K     |████████████████████████████████| 85 kB 5.2 MB/s \n",
            "\u001b[K     |████████████████████████████████| 250 kB 55.8 MB/s \n",
            "\u001b[K     |████████████████████████████████| 1.3 MB 64.5 MB/s \n",
            "\u001b[K     |████████████████████████████████| 32.8 MB 1.3 MB/s \n",
            "\u001b[K     |████████████████████████████████| 163 kB 58.7 MB/s \n",
            "\u001b[K     |████████████████████████████████| 6.6 MB 50.0 MB/s \n",
            "\u001b[K     |████████████████████████████████| 128 kB 60.8 MB/s \n",
            "\u001b[K     |████████████████████████████████| 47 kB 4.8 MB/s \n",
            "\u001b[K     |████████████████████████████████| 1.1 MB 57.3 MB/s \n",
            "\u001b[K     |████████████████████████████████| 11.2 MB 64.4 MB/s \n",
            "\u001b[K     |████████████████████████████████| 960 kB 66.8 MB/s \n",
            "\u001b[K     |████████████████████████████████| 1.8 MB 45.9 MB/s \n",
            "\u001b[K     |████████████████████████████████| 43 kB 2.3 MB/s \n",
            "\u001b[K     |████████████████████████████████| 9.2 MB 44.8 MB/s \n",
            "\u001b[K     |████████████████████████████████| 431 kB 62.2 MB/s \n",
            "\u001b[K     |████████████████████████████████| 162 kB 56.8 MB/s \n",
            "\u001b[K     |████████████████████████████████| 181 kB 62.4 MB/s \n",
            "\u001b[K     |████████████████████████████████| 63 kB 2.0 MB/s \n",
            "\u001b[K     |████████████████████████████████| 158 kB 72.2 MB/s \n",
            "\u001b[K     |████████████████████████████████| 157 kB 59.6 MB/s \n",
            "\u001b[K     |████████████████████████████████| 157 kB 57.6 MB/s \n",
            "\u001b[K     |████████████████████████████████| 157 kB 58.5 MB/s \n",
            "\u001b[K     |████████████████████████████████| 157 kB 64.2 MB/s \n",
            "\u001b[K     |████████████████████████████████| 157 kB 74.1 MB/s \n",
            "\u001b[K     |████████████████████████████████| 157 kB 74.1 MB/s \n",
            "\u001b[K     |████████████████████████████████| 157 kB 73.9 MB/s \n",
            "\u001b[K     |████████████████████████████████| 156 kB 57.0 MB/s \n",
            "\u001b[K     |████████████████████████████████| 115 kB 62.0 MB/s \n",
            "\u001b[K     |████████████████████████████████| 212 kB 47.3 MB/s \n",
            "\u001b[K     |████████████████████████████████| 127 kB 40.2 MB/s \n",
            "\u001b[K     |████████████████████████████████| 1.6 MB 39.9 MB/s \n",
            "\u001b[K     |████████████████████████████████| 4.7 MB 39.7 MB/s \n",
            "\u001b[K     |████████████████████████████████| 78 kB 8.1 MB/s \n",
            "\u001b[K     |████████████████████████████████| 235 kB 72.4 MB/s \n",
            "\u001b[K     |████████████████████████████████| 164 kB 61.1 MB/s \n",
            "\u001b[K     |████████████████████████████████| 51 kB 7.2 MB/s \n",
            "\u001b[?25h  Building wheel for langdetect (setup.py) ... \u001b[?25l\u001b[?25hdone\n",
            "  Building wheel for sentence-transformers (setup.py) ... \u001b[?25l\u001b[?25hdone\n",
            "  Building wheel for sklearn (setup.py) ... \u001b[?25l\u001b[?25hdone\n",
            "  Building wheel for wget (setup.py) ... \u001b[?25l\u001b[?25hdone\n",
            "  Building wheel for pathtools (setup.py) ... \u001b[?25l\u001b[?25hdone\n",
            "  Building wheel for seqeval (setup.py) ... \u001b[?25l\u001b[?25hdone\n",
            "  Building wheel for validators (setup.py) ... \u001b[?25l\u001b[?25hdone\n"
          ]
        }
      ],
      "source": [
        "!pip -q install diffusers transformers scipy mediapy deep_translator gtts langdetect pytextrank sentence-transformers sklearn wget simpletransformers sentencepiece speechrecognition pydub"
      ]
    },
    {
      "cell_type": "code",
      "source": [
        "import nltk\n",
        "nltk.download('punkt')"
      ],
      "metadata": {
        "colab": {
          "base_uri": "https://localhost:8080/"
        },
        "id": "WRND9mlCHKav",
        "outputId": "65295a12-9943-4edb-c9e9-8cf517b52e06"
      },
      "execution_count": 2,
      "outputs": [
        {
          "output_type": "stream",
          "name": "stderr",
          "text": [
            "[nltk_data] Downloading package punkt to /root/nltk_data...\n",
            "[nltk_data]   Unzipping tokenizers/punkt.zip.\n"
          ]
        },
        {
          "output_type": "execute_result",
          "data": {
            "text/plain": [
              "True"
            ]
          },
          "metadata": {},
          "execution_count": 2
        }
      ]
    },
    {
      "cell_type": "code",
      "source": [
        "from deep_translator import GoogleTranslator\n",
        "def translateSentence(sentence,lang='en'):\n",
        "  return GoogleTranslator('auto',lang).translate(sentence)"
      ],
      "metadata": {
        "id": "Mp-Bq0NVFfkq"
      },
      "execution_count": 6,
      "outputs": []
    },
    {
      "cell_type": "code",
      "source": [
        "import speech_recognition as sr\n",
        "from os import path\n",
        "from pydub import AudioSegment\n",
        "def speechToText(fileName):\n",
        "  if 'mp3' in fileName:\n",
        "    src=fileName\n",
        "    dst='output.wav'\n",
        "    sound = AudioSegment.from_mp3(src)\n",
        "    sound.export(dst, format=\"wav\")\n",
        "    fileName=dst\n",
        "  r = sr.Recognizer()\n",
        "  with sr.AudioFile(fileName) as source:\n",
        "    audio = r.record(source)\n",
        "  return r.recognize_google(audio)"
      ],
      "metadata": {
        "id": "nO1QLft99tvP"
      },
      "execution_count": 15,
      "outputs": []
    },
    {
      "cell_type": "code",
      "source": [
        "speechToText('Record (online-voice-recorder.com).mp3')"
      ],
      "metadata": {
        "id": "ica5pqLL-W5z"
      },
      "execution_count": null,
      "outputs": []
    },
    {
      "cell_type": "code",
      "source": [
        "from gtts import gTTS\n",
        "from langdetect import detect, DetectorFactory\n",
        "def TextToSpeech(text):\n",
        "  DetectorFactory.seed = 0\n",
        "  language=detect(text)\n",
        "  print(language)\n",
        "  try:\n",
        "    ttsObj = gTTS(text=text, lang=language, slow=False)\n",
        "  except:\n",
        "     ttsObj = gTTS(text=text, lang='ar', slow=False)\n",
        "  ttsObj.save(f\"test.mp3\")"
      ],
      "metadata": {
        "id": "XcHIJqmOFlHV"
      },
      "execution_count": null,
      "outputs": []
    },
    {
      "cell_type": "code",
      "source": [
        "import numpy as np\n",
        "from sklearn.metrics.pairwise import cosine_similarity\n",
        "from nltk import sent_tokenize\n",
        "\n",
        "from sentence_transformers import SentenceTransformer\n",
        "import time\n"
      ],
      "metadata": {
        "colab": {
          "base_uri": "https://localhost:8080/",
          "height": 104,
          "referenced_widgets": [
            "6a9bcc0beb3e4dabadcc9b6121251806",
            "53686900faeb4d5a894313ace5bef79a",
            "fea8416391314826a03b1ea8099c5351",
            "fc72e49284cc4c86a5ab855491bba3c6",
            "877e462bfa0f46cf806693633c55e05e",
            "7f1cf1fc41f5404887742a3c3b389c5e",
            "24dcf1896ee4459eabc4a2ebc5bdc992",
            "61903a2629724acd97021ee554b10ac4",
            "ade77225864043f29898c9d3438d1405",
            "7057f1168e7b4e99935c41a012da01f0",
            "83a3fd5ffd43425abae6086c77d4dd59"
          ]
        },
        "id": "NgKyOe6vFnYv",
        "outputId": "1cdf56fb-7093-4360-d18f-c0de92fd8549"
      },
      "execution_count": null,
      "outputs": [
        {
          "output_type": "stream",
          "name": "stderr",
          "text": [
            "The cache for model files in Transformers v4.22.0 has been updated. Migrating your old cache. This is a one-time only operation. You can interrupt this and resume the migration later on by calling `transformers.utils.move_cache()`.\n"
          ]
        },
        {
          "output_type": "stream",
          "name": "stdout",
          "text": [
            "Moving 0 files to the new cache system\n"
          ]
        },
        {
          "output_type": "display_data",
          "data": {
            "text/plain": [
              "0it [00:00, ?it/s]"
            ],
            "application/vnd.jupyter.widget-view+json": {
              "version_major": 2,
              "version_minor": 0,
              "model_id": "6a9bcc0beb3e4dabadcc9b6121251806"
            }
          },
          "metadata": {}
        }
      ]
    },
    {
      "cell_type": "code",
      "source": [
        "from transformers import PegasusForConditionalGeneration\n",
        "from transformers import PegasusTokenizer\n",
        "from transformers import pipeline\n",
        "model_name = \"google/pegasus-xsum\"\n",
        "pegasus_tokenizer = PegasusTokenizer.from_pretrained(model_name)\n",
        "# Define PEGASUS model\n",
        "pegasus_model = PegasusForConditionalGeneration.from_pretrained(model_name)\n",
        "def summarization(text):\n",
        "# Create tokens\n",
        "  tokens = pegasus_tokenizer(text, truncation=True, padding=\"longest\", return_tensors=\"pt\")\n",
        "  encoded_summary = pegasus_model.generate(**tokens)\n",
        "# Decode summarized text\n",
        "  decoded_summary = pegasus_tokenizer.decode(\n",
        "      encoded_summary[0],\n",
        "      skip_special_tokens=True\n",
        ")\n",
        "  summarizer = pipeline(\n",
        "    \"summarization\", \n",
        "    model=model_name, \n",
        "    tokenizer=pegasus_tokenizer, \n",
        "    framework=\"pt\"\n",
        ")\n",
        "  summary = summarizer(text, min_length=30, max_length=150)\n",
        "  return summary[0][\"summary_text\"]\n"
      ],
      "metadata": {
        "id": "prIENJhRTRuT"
      },
      "execution_count": null,
      "outputs": []
    },
    {
      "cell_type": "code",
      "source": [
        "def process_bert_similarity(base_document,documents):\n",
        "  # This will download and load the pretrained model offered by UKPLab.\n",
        "  model = SentenceTransformer('bert-base-nli-mean-tokens')\n",
        "\n",
        "\t# Although it is not explicitly stated in the official document of sentence transformer, the original BERT is meant for a shorter sentence. We will feed the model by sentences instead of the whole documents.\n",
        "  sentences = sent_tokenize(base_document)\n",
        "  base_embeddings_sentences = model.encode(sentences)\n",
        "  base_embeddings = np.mean(np.array(base_embeddings_sentences), axis=0)\n",
        "  \n",
        "  vectors = []\n",
        "  for i, document in enumerate(documents):\n",
        "    sentences = sent_tokenize(document)\n",
        "    embeddings_sentences = model.encode(sentences)\n",
        "    embeddings = np.mean(np.array(embeddings_sentences), axis=0)\n",
        "    vectors.append(embeddings)\n",
        "    #print(\"making vector at index:\", i)\n",
        "  scores = cosine_similarity([base_embeddings], vectors).flatten()\n",
        "\n",
        "  highest_score = 0\n",
        "  highest_score_index = 0\n",
        "  score_dict={}\n",
        "  for i, score in enumerate(scores):\n",
        "        score_dict[score]=i\n",
        "  score_dict=sorted(score_dict.items(), key=lambda x: x[0])\n",
        "  return  score_dict[-10:]\n",
        "  most_similar_document = documents[highest_score_index]\n",
        "  print(\"---------------------------------------------------------------------------------------------------------------------------------------------------------------------------------------------------------------------\\n\")\n",
        "  print(f\"Most similar document: {most_similar_document} \\n\\n\\nThe Score: {highest_score}\")"
      ],
      "metadata": {
        "id": "-e_xmN2LFq2n"
      },
      "execution_count": null,
      "outputs": []
    },
    {
      "cell_type": "code",
      "source": [
        "import pandas as pd\n",
        "data = pd.read_csv('APOD.csv')"
      ],
      "metadata": {
        "id": "OIrm2g9vHbfq"
      },
      "execution_count": null,
      "outputs": []
    },
    {
      "cell_type": "code",
      "source": [
        "docs=data.explanation.tolist()"
      ],
      "metadata": {
        "id": "IH_UrC5zIgTi"
      },
      "execution_count": null,
      "outputs": []
    },
    {
      "cell_type": "code",
      "source": [
        "text='Ich möchte auf dem Mars leben'\n",
        "DetectorFactory.seed = 0\n",
        "language=detect(text)\n",
        "eng_text=translateSentence(text)\n",
        "scores_dict=process_bert_similarity(eng_text,docs[:60])\n"
      ],
      "metadata": {
        "id": "i3nJyl-TIzF-"
      },
      "execution_count": null,
      "outputs": []
    },
    {
      "cell_type": "code",
      "source": [
        "TextToSpeech(translateSentence(docs[scores_dict[-1][1]],language))"
      ],
      "metadata": {
        "id": "TSwVUBrFfjBV"
      },
      "execution_count": null,
      "outputs": []
    },
    {
      "cell_type": "code",
      "source": [
        "import wget\n",
        "files=[]\n",
        "for i in scores_dict:\n",
        "  files.append(wget.download(data.url[i[1]]))"
      ],
      "metadata": {
        "id": "ZR4D1k6PhGga"
      },
      "execution_count": null,
      "outputs": []
    },
    {
      "cell_type": "code",
      "source": [
        "for i in range(len(docs)):\n",
        "  docs[i] = summarization(docs[i])"
      ],
      "metadata": {
        "id": "TCaY6UmpriWh"
      },
      "execution_count": null,
      "outputs": []
    },
    {
      "cell_type": "code",
      "source": [
        "docs[30]"
      ],
      "metadata": {
        "colab": {
          "base_uri": "https://localhost:8080/",
          "height": 70
        },
        "id": "mraOxuaxafkJ",
        "outputId": "33f22446-9d25-450a-bb2e-e043a489572c"
      },
      "execution_count": null,
      "outputs": [
        {
          "output_type": "execute_result",
          "data": {
            "text/plain": [
              "'The largest mountain on Mars, Olympus Mons, is pictured here in this Viking Orbiter image from 1995. Olympus Mons is a shield volcano nearly 15 miles high and over 300 miles wide at its base.'"
            ],
            "application/vnd.google.colaboratory.intrinsic+json": {
              "type": "string"
            }
          },
          "metadata": {},
          "execution_count": 16
        }
      ]
    }
  ]
}