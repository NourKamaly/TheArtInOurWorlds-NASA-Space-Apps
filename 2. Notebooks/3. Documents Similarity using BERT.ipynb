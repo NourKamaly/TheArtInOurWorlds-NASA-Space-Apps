{
  "nbformat": 4,
  "nbformat_minor": 0,
  "metadata": {
    "colab": {
      "provenance": []
    },
    "kernelspec": {
      "name": "python3",
      "display_name": "Python 3"
    },
    "language_info": {
      "name": "python"
    }
  },
  "cells": [
    {
      "cell_type": "code",
      "source": [
        "!pip install sentence-transformers\n",
        "!pip install sklearn"
      ],
      "metadata": {
        "id": "MWpMKVyUK4fq"
      },
      "execution_count": null,
      "outputs": []
    },
    {
      "cell_type": "code",
      "source": [
        "import nltk\n",
        "nltk.download('punkt')"
      ],
      "metadata": {
        "id": "dW0bc6gILciC"
      },
      "execution_count": null,
      "outputs": []
    },
    {
      "cell_type": "code",
      "source": [
        "import numpy as np\n",
        "from sklearn.metrics.pairwise import cosine_similarity\n",
        "from nltk import sent_tokenize\n",
        "\n",
        "from sentence_transformers import SentenceTransformer"
      ],
      "metadata": {
        "id": "qRJreKoiWxKw"
      },
      "execution_count": null,
      "outputs": []
    },
    {
      "cell_type": "code",
      "execution_count": 26,
      "metadata": {
        "id": "kU0r3yXVK20r"
      },
      "outputs": [],
      "source": [
        "def process_bert_similarity(base_document,documents):\n",
        "  # This will download and load the pretrained model offered by UKPLab.\n",
        "  model = SentenceTransformer('bert-base-nli-mean-tokens')\n",
        "\n",
        "\t# Although it is not explicitly stated in the official document of sentence transformer, the original BERT is meant for a shorter sentence. We will feed the model by sentences instead of the whole documents.\n",
        "  sentences = sent_tokenize(base_document)\n",
        "  base_embeddings_sentences = model.encode(sentences)\n",
        "  base_embeddings = np.mean(np.array(base_embeddings_sentences), axis=0)\n",
        "  \n",
        "  vectors = []\n",
        "  for i, document in enumerate(documents):\n",
        "    sentences = sent_tokenize(document)\n",
        "    embeddings_sentences = model.encode(sentences)\n",
        "    embeddings = np.mean(np.array(embeddings_sentences), axis=0)\n",
        "    \n",
        "    vectors.append(embeddings)\n",
        "    print(\"making vector at index:\", i)\n",
        "    \n",
        "  scores = cosine_similarity([base_embeddings], vectors).flatten()\n",
        "  \n",
        "  highest_score = 0\n",
        "  highest_score_index = 0\n",
        "  \n",
        "  for i, score in enumerate(scores):\n",
        "    if highest_score < score:\n",
        "      highest_score = score\n",
        "      highest_score_index = i\n",
        "      \n",
        "  most_similar_document = documents[highest_score_index]\n",
        "  print(\"---------------------------------------------------------------------------------------------------------------------------------------------------------------------------------------------------------------------\\n\")\n",
        "  print(f\"Most similar document: {most_similar_document} \\n\\n\\nThe Score: {highest_score}\")"
      ]
    },
    {
      "cell_type": "code",
      "source": [
        "base_document = \"Technologies are artifacts made through a systematic application of knowledge and used to reach practical goals\"\n",
        "\n",
        "documents = [\"\"\"Sports are defined as physical or mental exertion by individuals and are committed to maintaining physical or mental fitness. \n",
        "There are many types of exercise that can be practiced  as a healthy habit, such as walking, \n",
        "riding, Swimming, or athletics, and these sports have many benefits on the human body and mind.\n",
        "Sport make the body ideal, consistent, and healthy, as it strengthens it, and fights obesity. \n",
        "Prevention of many diseases, including: Obesity, which is a cause of other diseases, such as: \n",
        "Diabetic cartilage disease, diabetes and high blood pressure.\"\"\",\n",
        "\n",
        "\"\"\"Scientific innovations or technology is the most amazing thing that can ever happen to humankind. \n",
        "In this modern world, technology is no more a luxury, and it has become a necessity. \n",
        "Life without technology is next to impossible but humans have become dependent on technological advancements. \n",
        "For every human activity, we need a machine, and then there comes technology. \n",
        "It has made all our lives easier and more convenient, making transportation, education, labour, etc., more accessible. \n",
        "Technological breakthroughs change from time to time in today’s fast-paced, ever-changing world. \n",
        "However, in today’s world, technology plays a critical role in strengthening a country’s economy and people’s lives.\"\"\"]\n",
        "\n",
        "\n",
        "\n",
        "process_bert_similarity(base_document,documents)"
      ],
      "metadata": {
        "colab": {
          "base_uri": "https://localhost:8080/"
        },
        "id": "L7gWBVGqLF5S",
        "outputId": "78a300d4-6f56-492c-c960-63c42ffb7d03"
      },
      "execution_count": 29,
      "outputs": [
        {
          "output_type": "stream",
          "name": "stdout",
          "text": [
            "making vector at index: 0\n",
            "making vector at index: 1\n",
            "---------------------------------------------------------------------------------------------------------------------------------------------------------------------------------------------------------------------\n",
            "\n",
            "Most similar document: Scientific innovations or technology is the most amazing thing that can ever happen to humankind. \n",
            "In this modern world, technology is no more a luxury, and it has become a necessity. \n",
            "Life without technology is next to impossible but humans have become dependent on technological advancements. \n",
            "For every human activity, we need a machine, and then there comes technology. \n",
            "It has made all our lives easier and more convenient, making transportation, education, labour, etc., more accessible. \n",
            "Technological breakthroughs change from time to time in today’s fast-paced, ever-changing world. \n",
            "However, in today’s world, technology plays a critical role in strengthening a country’s economy and people’s lives. \n",
            "\n",
            "\n",
            "The Score: 0.696976900100708\n"
          ]
        }
      ]
    },
    {
      "cell_type": "code",
      "source": [],
      "metadata": {
        "id": "lDnfX_AzWmeq"
      },
      "execution_count": null,
      "outputs": []
    }
  ]
}